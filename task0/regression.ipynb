{
 "cells": [
  {
   "cell_type": "code",
   "execution_count": 12,
   "id": "b0d9fa76",
   "metadata": {},
   "outputs": [],
   "source": [
    "import numpy\n",
    "from sklearn.linear_model import LinearRegression\n",
    "from sklearn import linear_model\n",
    "import pandas"
   ]
  },
  {
   "cell_type": "markdown",
   "id": "cc5a89c9",
   "metadata": {},
   "source": [
    "We import pandas, numpy and some sklearn methods"
   ]
  },
  {
   "cell_type": "code",
   "execution_count": 13,
   "id": "f0f137d9",
   "metadata": {},
   "outputs": [],
   "source": [
    "trainData = pandas.read_csv(\"csv/train.csv\")\n",
    "X = trainData[[\"x1\", \"x2\", \"x3\", \"x4\", \"x5\", \"x6\", \"x7\", \"x8\", \"x9\", \"x10\"]]\n",
    "y = trainData[[\"y\"]]\n",
    "regression = linear_model.LinearRegression()\n",
    "regression.fit(X, y)\n",
    "\n",
    "predictData = pandas.read_csv(\"csv/test.csv\", dtype={\"Id\" : \"Int32\"})\n",
    "Id = predictData[[\"Id\"]]\n",
    "predict = regression.predict(predictData[[\"x1\", \"x2\", \"x3\", \"x4\", \"x5\", \"x6\", \"x7\", \"x8\", \"x9\", \"x10\"]])\n"
   ]
  },
  {
   "attachments": {},
   "cell_type": "markdown",
   "id": "45aab1bb",
   "metadata": {},
   "source": [
    "We read the train csv file into pandas dataframe.\n",
    "After that, we separated the training data, into attributes (X) and expected result (y). \n",
    "We use the sklearn LinearRegression model to fit the training data, after which we predict on the test data."
   ]
  },
  {
   "cell_type": "code",
   "execution_count": 14,
   "id": "b93ae40e",
   "metadata": {},
   "outputs": [],
   "source": [
    "\n",
    "predict = pandas.DataFrame(predict, columns=[\"y\"])\n",
    "predict.insert(0, \"Id\", Id)\n",
    "predict.to_csv(\"csv/adam_prediction.csv\", index=False)"
   ]
  },
  {
   "attachments": {},
   "cell_type": "markdown",
   "id": "3663143e",
   "metadata": {},
   "source": [
    "Here we convert the numpy prediction array into a panadas DataFrame after which we insert the Id column from the original test.csv file. \n",
    "Finally, we convert the final DataFrame to the csv file at location \"csv/adam_prediction.csv\""
   ]
  }
 ],
 "metadata": {
  "kernelspec": {
   "display_name": "Python 3 (ipykernel)",
   "language": "python",
   "name": "python3"
  },
  "language_info": {
   "codemirror_mode": {
    "name": "ipython",
    "version": 3
   },
   "file_extension": ".py",
   "mimetype": "text/x-python",
   "name": "python",
   "nbconvert_exporter": "python",
   "pygments_lexer": "ipython3",
   "version": "3.9.6"
  }
 },
 "nbformat": 4,
 "nbformat_minor": 5
}
