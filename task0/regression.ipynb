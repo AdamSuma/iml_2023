{
 "cells": [
  {
   "cell_type": "code",
   "execution_count": 9,
   "id": "b0d9fa76",
   "metadata": {},
   "outputs": [],
   "source": [
    "import numpy\n",
    "from numpy import savetxt\n",
    "from sklearn.linear_model import LinearRegression\n",
    "from sklearn.metrics import mean_squared_error\n",
    "from sklearn import linear_model\n",
    "import matplotlib.pyplot as plot\n",
    "import pandas"
   ]
  },
  {
   "cell_type": "markdown",
   "id": "cc5a89c9",
   "metadata": {},
   "source": [
    "We import pandas, numpy and some sklearn methods"
   ]
  },
  {
   "cell_type": "code",
   "execution_count": 10,
   "id": "f0f137d9",
   "metadata": {},
   "outputs": [],
   "source": [
    "trainData = pandas.read_csv(\"csv/train.csv\")\n",
    "X = trainData[[\"x1\", \"x2\", \"x3\", \"x4\", \"x5\", \"x6\", \"x7\", \"x8\", \"x9\", \"x10\"]]\n",
    "y = trainData[[\"y\"]]\n",
    "regression = linear_model.LinearRegression()\n",
    "regression.fit(X, y)\n",
    "\n",
    "predictData = pandas.read_csv(\"csv/test.csv\", dtype={\"Id\" : \"Int32\"})\n",
    "Id = predictData[[\"Id\"]]\n",
    "predict = regression.predict(predictData[[\"x1\", \"x2\", \"x3\", \"x4\", \"x5\", \"x6\", \"x7\", \"x8\", \"x9\", \"x10\"]])\n"
   ]
  },
  {
   "attachments": {},
   "cell_type": "markdown",
   "id": "45aab1bb",
   "metadata": {},
   "source": [
    "We read the train csv file into pandas dataframe.\n",
    "After that, we separated the training data, into attributes (X) and expected result (y). \n",
    "We use the sklearn LinearRegression model to fit the training data, after which we predict on the test data."
   ]
  },
  {
   "cell_type": "code",
   "execution_count": 11,
   "id": "b93ae40e",
   "metadata": {},
   "outputs": [
    {
     "name": "stdout",
     "output_type": "stream",
     "text": [
      "         Id           y\n",
      "0     10000  -66.002423\n",
      "1     10001  451.406504\n",
      "2     10002 -461.676417\n",
      "3     10003   40.501209\n",
      "4     10004 -126.744722\n",
      "...     ...         ...\n",
      "1995  11995  464.715255\n",
      "1996  11996  496.485334\n",
      "1997  11997  -35.135409\n",
      "1998  11998 -131.679185\n",
      "1999  11999  417.269155\n",
      "\n",
      "[2000 rows x 2 columns]\n"
     ]
    }
   ],
   "source": [
    "\n",
    "# numpy.append(predict, [\"Id\", \"y\"], axis=0)\n",
    "predict = pandas.DataFrame(predict, columns=[\"y\"])\n",
    "predict.insert(0, \"Id\", Id)\n",
    "predict.to_csv(\"csv/adam_prediction.csv\", index=False)"
   ]
  },
  {
   "attachments": {},
   "cell_type": "markdown",
   "id": "3663143e",
   "metadata": {},
   "source": [
    "Here we convert the numpy prediction array into a panadas DataFrame after which we insert the Id column from the original test.csv file. \n",
    "Finally, we convert the final DataFrame to the csv file at location \"csv/adam_prediction.csv\""
   ]
  }
 ],
 "metadata": {
  "kernelspec": {
   "display_name": "Python 3 (ipykernel)",
   "language": "python",
   "name": "python3"
  },
  "language_info": {
   "codemirror_mode": {
    "name": "ipython",
    "version": 3
   },
   "file_extension": ".py",
   "mimetype": "text/x-python",
   "name": "python",
   "nbconvert_exporter": "python",
   "pygments_lexer": "ipython3",
   "version": "3.9.6"
  }
 },
 "nbformat": 4,
 "nbformat_minor": 5
}
